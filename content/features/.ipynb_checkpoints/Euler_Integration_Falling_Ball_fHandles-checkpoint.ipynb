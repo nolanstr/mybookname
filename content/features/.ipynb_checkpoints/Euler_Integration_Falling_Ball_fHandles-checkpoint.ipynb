{
 "cells": [
  {
   "cell_type": "code",
   "execution_count": 1,
   "metadata": {
    "tags": [
     "remove_cell"
    ]
   },
   "outputs": [
    {
     "data": {
      "text/html": [
       "        <script type=\"text/javascript\">\n",
       "        window.PlotlyConfig = {MathJaxConfig: 'local'};\n",
       "        if (window.MathJax) {MathJax.Hub.Config({SVG: {font: \"STIX-Web\"}});}\n",
       "        if (typeof require !== 'undefined') {\n",
       "        require.undef(\"plotly\");\n",
       "        requirejs.config({\n",
       "            paths: {\n",
       "                'plotly': ['https://cdn.plot.ly/plotly-latest.min']\n",
       "            }\n",
       "        });\n",
       "        require(['plotly'], function(Plotly) {\n",
       "            window._Plotly = Plotly;\n",
       "        });\n",
       "        }\n",
       "        </script>\n",
       "        "
      ]
     },
     "metadata": {},
     "output_type": "display_data"
    }
   ],
   "source": [
    "from __future__ import print_function\n",
    "from ipywidgets import interact, interactive, fixed, interact_manual\n",
    "import ipywidgets as widgets\n",
    "from plotly.offline import download_plotlyjs, init_notebook_mode, plot, iplot\n",
    "import plotly.graph_objs as go\n",
    "init_notebook_mode(connected=True)\n",
    "\n",
    "import numpy as np\n",
    "import math\n"
   ]
  },
  {
   "cell_type": "code",
   "execution_count": 2,
   "metadata": {
    "tags": [
     "remove_cell"
    ]
   },
   "outputs": [],
   "source": [
    "# This is an implementation of euler method for integrating an initial value problem\n",
    "def euler(ode, IC, h):\n",
    "    \n",
    "    t = np.arange(0,10,h)\n",
    "    y = np.zeros(len(t)+1)\n",
    "    y[0] = IC\n",
    "    \n",
    "    for i in range(0,len(t)):\n",
    "            y[i+1] = y[i] + (ode(y[i],t[i]) * h)\n",
    "            \n",
    "    return y"
   ]
  },
  {
   "cell_type": "code",
   "execution_count": 3,
   "metadata": {
    "tags": [
     "remove_cell"
    ]
   },
   "outputs": [],
   "source": [
    "# This function simply calls those above and plots the computed data\n",
    "def plot_v(IC, h, dydt):\n",
    "     \n",
    "    ode = lambda y,t: eval(dydt)\n",
    "\n",
    "    IC = float(IC)\n",
    "    h = float(h)\n",
    "    \n",
    "    v_real = euler(ode,IC,h)\n",
    "    \n",
    "    t_discrt = np.arange(0,10+h,h)\n",
    "    \n",
    "    # plot both datasets\n",
    "    plot_v = go.Scatter(name='solution', x=t_discrt, y=v_real)\n",
    "        \n",
    "    iplot([plot_v])\n",
    "    \n",
    "    "
   ]
  },
  {
   "cell_type": "code",
   "execution_count": 4,
   "metadata": {
    "scrolled": false
   },
   "outputs": [
    {
     "data": {
      "application/vnd.jupyter.widget-view+json": {
       "model_id": "4a8ee1cfa3974ee2865d9742a4ce5f1d",
       "version_major": 2,
       "version_minor": 0
      },
      "text/plain": [
       "interactive(children=(Text(value='0', description='IC'), Text(value='1', description='h'), Text(value='y * t',…"
      ]
     },
     "metadata": {},
     "output_type": "display_data"
    }
   ],
   "source": [
    "# Define the variables that can be interacted with\n",
    "w = interact(plot_v, IC = '0', h = '1', dydt = 'y * t')\n",
    "# Make sure dydt is in terms of y and t!!!\n"
   ]
  }
 ],
 "metadata": {
  "celltoolbar": "Tags",
  "kernelspec": {
   "display_name": "Python 3",
   "language": "python",
   "name": "python3"
  },
  "language_info": {
   "codemirror_mode": {
    "name": "ipython",
    "version": 3
   },
   "file_extension": ".py",
   "mimetype": "text/x-python",
   "name": "python",
   "nbconvert_exporter": "python",
   "pygments_lexer": "ipython3",
   "version": "3.7.1"
  }
 },
 "nbformat": 4,
 "nbformat_minor": 2
}
