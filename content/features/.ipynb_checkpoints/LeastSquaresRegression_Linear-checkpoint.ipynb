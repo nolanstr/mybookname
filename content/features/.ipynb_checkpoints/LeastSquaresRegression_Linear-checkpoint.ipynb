{
 "cells": [
  {
   "cell_type": "code",
   "execution_count": 1,
   "metadata": {
    "tags": [
     "remove_cell"
    ]
   },
   "outputs": [
    {
     "data": {
      "text/html": [
       "        <script type=\"text/javascript\">\n",
       "        window.PlotlyConfig = {MathJaxConfig: 'local'};\n",
       "        if (window.MathJax) {MathJax.Hub.Config({SVG: {font: \"STIX-Web\"}});}\n",
       "        if (typeof require !== 'undefined') {\n",
       "        require.undef(\"plotly\");\n",
       "        requirejs.config({\n",
       "            paths: {\n",
       "                'plotly': ['https://cdn.plot.ly/plotly-latest.min']\n",
       "            }\n",
       "        });\n",
       "        require(['plotly'], function(Plotly) {\n",
       "            window._Plotly = Plotly;\n",
       "        });\n",
       "        }\n",
       "        </script>\n",
       "        "
      ]
     },
     "metadata": {},
     "output_type": "display_data"
    }
   ],
   "source": [
    "from __future__ import print_function\n",
    "from ipywidgets import interact, interactive, fixed, interact_manual\n",
    "import ipywidgets as widgets\n",
    "from plotly.offline import download_plotlyjs, init_notebook_mode, plot, iplot\n",
    "import plotly.graph_objs as go\n",
    "init_notebook_mode(connected=True)\n",
    "\n",
    "import time\n",
    "import numpy as np\n",
    "import math as m\n",
    "import numpy as np"
   ]
  },
  {
   "cell_type": "code",
   "execution_count": 8,
   "metadata": {
    "tags": [
     "remove_cell"
    ]
   },
   "outputs": [],
   "source": [
    "def LSRLinear(x,y):\n",
    "    \n",
    "    n = len(x)\n",
    "    \n",
    "    sumXY = sum(x * y)\n",
    "    sumXSquared = sum(x**2)\n",
    "    sumX = sum(x)\n",
    "    sumY = sum(y)\n",
    "    \n",
    "    xBar = sumX / n\n",
    "    yBar = sumY / n\n",
    "    \n",
    "    a1 = ((n * sumXY) - (sumX * sumY)) / ((n * sumXSquared) - (sumX**2)) \n",
    "    a0 = yBar - (a1 * xBar)\n",
    "    \n",
    "    return a0, a1"
   ]
  },
  {
   "cell_type": "code",
   "execution_count": 19,
   "metadata": {
    "tags": [
     "remove_cell"
    ]
   },
   "outputs": [],
   "source": [
    "def CreateXY(ao,yo,x):\n",
    "    \n",
    "    fun = lambda x: (a1 * x) + a0\n",
    "    \n",
    "    y = np.zeros(len(x))\n",
    "    \n",
    "    for i in range(len(x)):\n",
    "        y[i] = fun(x[i])\n",
    "        \n",
    "    return y"
   ]
  },
  {
   "cell_type": "code",
   "execution_count": 20,
   "metadata": {
    "tags": [
     "remove_cell"
    ]
   },
   "outputs": [],
   "source": [
    "def ErrorAnalysis(a0,a1,x,y):\n",
    "    \n",
    "    error = 0\n",
    "    \n",
    "    for i in range(len(x)):\n",
    "        error += (y[i] - a0 - (a1 * x[i])) ** 2\n",
    "        \n",
    "    return error"
   ]
  },
  {
   "cell_type": "code",
   "execution_count": 22,
   "metadata": {
    "tags": [
     "remove_cell"
    ]
   },
   "outputs": [],
   "source": [
    "def PlotLSRLinear(x,y):\n",
    "    x = np.array(eval(x))\n",
    "    y = np.array(eval(y))\n",
    "\n",
    "    StartTime = time.time()\n",
    "    \n",
    "    a0,a1 = LSRLinear(x,y)\n",
    "    error = ErrorAnalysis(a0,a1,x,y)\n",
    "    newY = CreateXY(a0,a1,x)\n",
    "    \n",
    "    plot_vals = go.Scatter(name='True values', x=x, y=y)\n",
    "    plot_approx = go.Scatter(name='Approximated Values', x=x, y=newY)\n",
    "\n",
    "    print('The error for this Least Squares regression(linear) is',error)\n",
    "    \n",
    "    iplot([plot_vals, plot_approx])\n",
    "    \n",
    "    TotalTime = time.time() - StartTime\n",
    "    print('Least Squares Regression(linear) took',TotalTime,'seconds to complete.')"
   ]
  },
  {
   "cell_type": "code",
   "execution_count": 23,
   "metadata": {},
   "outputs": [
    {
     "data": {
      "application/vnd.jupyter.widget-view+json": {
       "model_id": "2c980ff08f9044e8af6da2063791eebb",
       "version_major": 2,
       "version_minor": 0
      },
      "text/plain": [
       "interactive(children=(Dropdown(description='x', options=('[1,2,3,4,5,6,7]',), value='[1,2,3,4,5,6,7]'), Dropdo…"
      ]
     },
     "metadata": {},
     "output_type": "display_data"
    }
   ],
   "source": [
    "w = interact(PlotLSRLinear, x = {'[1,2,3,4,5,6,7]'}, y = {'[0.5,2.5,2.0,4.0,3.5,6.0,5.5]','[0.5,2.5,10.0,4.0,3.5,6.0,5.5]','[0.5,-9.5,2.0,4.0,3.5,6.0,5.5]'})"
   ]
  },
  {
   "cell_type": "code",
   "execution_count": null,
   "metadata": {},
   "outputs": [],
   "source": []
  }
 ],
 "metadata": {
  "celltoolbar": "Tags",
  "kernelspec": {
   "display_name": "Python 3",
   "language": "python",
   "name": "python3"
  },
  "language_info": {
   "codemirror_mode": {
    "name": "ipython",
    "version": 3
   },
   "file_extension": ".py",
   "mimetype": "text/x-python",
   "name": "python",
   "nbconvert_exporter": "python",
   "pygments_lexer": "ipython3",
   "version": "3.7.1"
  }
 },
 "nbformat": 4,
 "nbformat_minor": 2
}
