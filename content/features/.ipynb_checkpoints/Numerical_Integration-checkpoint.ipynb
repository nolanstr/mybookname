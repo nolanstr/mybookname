{
 "cells": [
  {
   "cell_type": "code",
   "execution_count": 39,
   "metadata": {
    "tags": [
     "remove_cell"
    ]
   },
   "outputs": [
    {
     "data": {
      "text/html": [
       "        <script type=\"text/javascript\">\n",
       "        window.PlotlyConfig = {MathJaxConfig: 'local'};\n",
       "        if (window.MathJax) {MathJax.Hub.Config({SVG: {font: \"STIX-Web\"}});}\n",
       "        if (typeof require !== 'undefined') {\n",
       "        require.undef(\"plotly\");\n",
       "        requirejs.config({\n",
       "            paths: {\n",
       "                'plotly': ['https://cdn.plot.ly/plotly-latest.min']\n",
       "            }\n",
       "        });\n",
       "        require(['plotly'], function(Plotly) {\n",
       "            window._Plotly = Plotly;\n",
       "        });\n",
       "        }\n",
       "        </script>\n",
       "        "
      ]
     },
     "metadata": {},
     "output_type": "display_data"
    }
   ],
   "source": [
    "from __future__ import print_function\n",
    "from ipywidgets import interact, interactive, fixed, interact_manual\n",
    "import ipywidgets as widgets\n",
    "from plotly.offline import download_plotlyjs, init_notebook_mode, plot, iplot\n",
    "import plotly.graph_objs as go\n",
    "init_notebook_mode(connected=True)\n",
    "from scipy.linalg import lu\n",
    "\n",
    "import time\n",
    "import numpy as np\n",
    "import math as m\n",
    "import numpy as np"
   ]
  },
  {
   "cell_type": "code",
   "execution_count": 40,
   "metadata": {
    "tags": [
     "remove_cell"
    ]
   },
   "outputs": [],
   "source": [
    "def TrapRule(Fun,a,b,n):\n",
    "    fun = lambda x: eval(Fun)\n",
    "    \n",
    "    I = 0\n",
    "    h = (b-a)/n\n",
    "    \n",
    "    for i in np.linspace(a,b,n):\n",
    "        \n",
    "        I += (h) * ((fun(a) + fun(a+h)) / 2)\n",
    "        a += h\n",
    "        \n",
    "    print('For the Trapezoidal the integral approximation is',I)"
   ]
  },
  {
   "cell_type": "code",
   "execution_count": 41,
   "metadata": {
    "tags": [
     "remove_cell"
    ]
   },
   "outputs": [],
   "source": [
    "def SimThirdRule(Fun,a,b,n):\n",
    "    fun = lambda x: eval(Fun)\n",
    "    \n",
    "    h = (b-a) / n\n",
    "    \n",
    "    Sum1 = sum([fun(i) for i in np.arange(a+h,b,2*h)])\n",
    "    Sum2 = sum([fun(i) for i in np.arange(a+(2*h),b-h,2*h)])\n",
    "    \n",
    "    I = ((b - a) * (fun(a) + (4 * Sum1) + (2 * Sum2) + fun(b))) / (3 * n)\n",
    "    \n",
    "    print(\"For Simpson's One Third rule the integral approximation is\",I)"
   ]
  },
  {
   "cell_type": "code",
   "execution_count": 47,
   "metadata": {
    "tags": [
     "remove_cell"
    ]
   },
   "outputs": [],
   "source": [
    "def SimEighthRule(Fun,a,b):\n",
    "    fun = lambda x: eval(Fun)\n",
    "    \n",
    "    x = np.linspace(a,b,4)\n",
    "    \n",
    "    I = ((b-a) * 3 *(fun(x[0]) + (3 * fun(x[1])) + (3 * fun(x[2])) + fun(x[3]))) / 8\n",
    "    \n",
    "    print(\"For Simpson's Three Eighth rule the integral approximation is\",I)"
   ]
  },
  {
   "cell_type": "code",
   "execution_count": 48,
   "metadata": {
    "tags": [
     "remove_cell"
    ]
   },
   "outputs": [],
   "source": [
    "def GaussQuadrature(Fun,a,b,points):\n",
    "    fun = lambda x: eval(Fun)\n",
    "    \n",
    "    dxCoefficient = (b - a) / 2\n",
    "    newX = lambda x: ((b+a) + ((b-a)*x)) / 2\n",
    "    TrueFun = lambda x: fun(newX(x))\n",
    "    \n",
    "    if points == 2:\n",
    "        I = ((1.0) * TrueFun(-0.577350269)) + (1.0) * TrueFun(0.577350269)\n",
    "        return I\n",
    "    if points == 3:\n",
    "        I = ((0.5555556) * TrueFun(-0.774596669)) + ((0.8888889) * TrueFun(0)) + ((0.5555556) * TrueFun(0.774596669))\n",
    "        return I\n",
    "    if points == 4:\n",
    "        I = ((0.3478548) * TrueFun(-0.861136312)) + ((0.6521452) * TrueFun(-0.339981044)) + ((0.3478548) * TrueFun(0.861136312)) + ((0.6521452) * TrueFun(0.339981044))\n",
    "        return(I)\n",
    "    if points == 5:\n",
    "        I = ((0.2369269) * TrueFun(-0.906179846)) + ((0.4786287) * TrueFun(-0.538469310)) + ((0.5688889) * TrueFun(0)) + ((0.2369269) * TrueFun(0.906179846)) + ((0.4786287) * TrueFun(0.538469310))\n",
    "        return I \n",
    "    if points == 6:\n",
    "        I = ((0.1713245) * TrueFun(-0.932469514)) + ((0.3607616) * TrueFun(-0.661209386)) + ((0.4679139) * TrueFun(-0.238619186)) + ((0.1713245) * TrueFun(0.932469514)) + ((0.3607616) * TrueFun(0.661209386)) + ((0.4679139) * TrueFun(0.238619186))\n",
    "        \n",
    "    print('For Gauss Quadrature with',points,'points, the integral approximation',I)\n"
   ]
  },
  {
   "cell_type": "code",
   "execution_count": 53,
   "metadata": {
    "tags": [
     "remove_cell"
    ]
   },
   "outputs": [],
   "source": [
    "def FunChooser(method):\n",
    "    if method == 'Trapezoidal':\n",
    "        w = interact(TrapRule,Fun = {'x**2','(2*x**2) + (3*x)','np.exp(x)'}, a = -10, b = 10, n = 4)\n",
    "        \n",
    "    if method == \"Simpson's One Third Rule\":\n",
    "        w = interact(SimThirdRule,Fun = {'x**2','(2*x**2) + (3*x)','np.exp(x)'}, a = -10, b = 10, n = 4)\n",
    "\n",
    "    if method == \"Simpson's Three Eighth Rule\":\n",
    "        w = interact(SimEighthRule,Fun = {'x**2','(2*x**2) + (3*x)','np.exp(x)'}, a = -10, b = 10, n = 4)\n",
    "\n",
    "    if method == 'Gauss Quadrature':\n",
    "        w = interact(GaussQuadrature,Fun = {'x**2','(2*x**2) + (3*x)','np.exp(x)'}, a = -10, b = 10, points = {2,3,4,5,6})\n",
    "\n",
    "        "
   ]
  },
  {
   "cell_type": "code",
   "execution_count": 54,
   "metadata": {},
   "outputs": [
    {
     "data": {
      "application/vnd.jupyter.widget-view+json": {
       "model_id": "86b2ea415ac74c2aa259b82900bc89d4",
       "version_major": 2,
       "version_minor": 0
      },
      "text/plain": [
       "interactive(children=(Dropdown(description='method', options=(\"Simpson's Three Eighth Rule\", 'Gauss Quadrature…"
      ]
     },
     "metadata": {},
     "output_type": "display_data"
    }
   ],
   "source": [
    "w = interact(FunChooser,method = {'Trapezoidal',\"Simpson's One Third Rule\",\"Simpson's Three Eighth Rule\",'Gauss Quadrature'})\n",
    "\n"
   ]
  },
  {
   "cell_type": "code",
   "execution_count": null,
   "metadata": {},
   "outputs": [],
   "source": []
  }
 ],
 "metadata": {
  "celltoolbar": "Tags",
  "kernelspec": {
   "display_name": "Python 3",
   "language": "python",
   "name": "python3"
  },
  "language_info": {
   "codemirror_mode": {
    "name": "ipython",
    "version": 3
   },
   "file_extension": ".py",
   "mimetype": "text/x-python",
   "name": "python",
   "nbconvert_exporter": "python",
   "pygments_lexer": "ipython3",
   "version": "3.7.1"
  }
 },
 "nbformat": 4,
 "nbformat_minor": 2
}
