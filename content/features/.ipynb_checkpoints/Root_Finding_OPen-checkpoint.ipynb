{
 "cells": [
  {
   "cell_type": "code",
   "execution_count": 2,
   "metadata": {
    "tags": [
     "remove_cell"
    ]
   },
   "outputs": [
    {
     "data": {
      "text/html": [
       "        <script type=\"text/javascript\">\n",
       "        window.PlotlyConfig = {MathJaxConfig: 'local'};\n",
       "        if (window.MathJax) {MathJax.Hub.Config({SVG: {font: \"STIX-Web\"}});}\n",
       "        if (typeof require !== 'undefined') {\n",
       "        require.undef(\"plotly\");\n",
       "        requirejs.config({\n",
       "            paths: {\n",
       "                'plotly': ['https://cdn.plot.ly/plotly-latest.min']\n",
       "            }\n",
       "        });\n",
       "        require(['plotly'], function(Plotly) {\n",
       "            window._Plotly = Plotly;\n",
       "        });\n",
       "        }\n",
       "        </script>\n",
       "        "
      ]
     },
     "metadata": {},
     "output_type": "display_data"
    }
   ],
   "source": [
    "from __future__ import print_function\n",
    "from ipywidgets import interact, interactive, fixed, interact_manual\n",
    "import ipywidgets as widgets\n",
    "from plotly.offline import download_plotlyjs, init_notebook_mode, plot, iplot\n",
    "import plotly.graph_objs as go\n",
    "init_notebook_mode(connected=True)\n",
    "\n",
    "import time\n",
    "import numpy as np\n",
    "import math\n"
   ]
  },
  {
   "cell_type": "code",
   "execution_count": 3,
   "metadata": {
    "tags": [
     "hide_cell",
     "remove_cell"
    ]
   },
   "outputs": [],
   "source": [
    "def derivative(fun):\n",
    "    if fun == '2 * (x**2)':\n",
    "        funD = '4 * x'\n",
    "    if fun == '(2*(x**2)) + (3*x) + 1':\n",
    "        funD = '(4 * x) + 3'\n",
    "    if fun == '(x**3) + 4 *(x)  - 16': \n",
    "        funD = '(3 * (x**2) + 4)'\n",
    "    return funD"
   ]
  },
  {
   "cell_type": "code",
   "execution_count": 4,
   "metadata": {
    "tags": [
     "hide_cell",
     "remove_cell"
    ]
   },
   "outputs": [],
   "source": [
    "def FunSelector(method):\n",
    "    if method == 'Newton-Raphson Method':\n",
    "        w = interact(NewtonRaphson , Fun = {'2 * (x**2)','(2*(x**2)) + (3*x) + 1','(x**3) + 4 *(x)  - 16'}, x0=(-15,15,1) , tol=(1e-4, 5e-1, 1e-2))\n",
    "        return w\n",
    "    if method == 'Secant Method':\n",
    "        w = interact(SecantMethod , Fun = {'2 * (x**2)','(2*(x**2)) + (3*x) + 1','(x**3) + 4 *(x)  - 16'}, x0=(-15,14,1) , x1=(-15,14,1), tol=(1e-4, 5e-1, 1e-2))\n",
    "        return w       \n",
    "    if method == 'Brents Method':\n",
    "        w = interact(BrentsMethod , Fun = {'2 * (x**2)','(2*(x**2)) + (3*x) + 1','(x**3) + 4 *(x)  - 16'}, x0=(-15,14,1) , x1=(-15,14,1), tol=(1e-4, 5e-1, 1e-2))\n",
    "        return w   "
   ]
  },
  {
   "cell_type": "code",
   "execution_count": 5,
   "metadata": {
    "tags": [
     "hide_cell",
     "remove_cell"
    ]
   },
   "outputs": [],
   "source": [
    "def printFun(fun, root, totalTime, iterations):\n",
    "    RangeNearRoot = np.arange(root - 2, root + 2, 0.1)\n",
    "    funVals = np.zeros(len(RangeNearRoot))\n",
    "    \n",
    "    for i in range(len(funVals)):\n",
    "        funVals[i] = fun(RangeNearRoot[i])\n",
    "    \n",
    "    print(iterations, 'iterations were completed in',totalTime,'seconds!')\n",
    "    #plot both datasets\n",
    "    plot_vals = go.Scatter(name='Equation Near Root', x=RangeNearRoot, y=funVals)\n",
    "    plot_approx = go.Scatter(name='Root Approximation.', x=np.array([root]), y=np.array([fun(root)]))\n",
    "        \n",
    "    iplot([plot_vals, plot_approx])\n",
    "    "
   ]
  },
  {
   "cell_type": "code",
   "execution_count": 6,
   "metadata": {
    "tags": [
     "hide_cell",
     "remove_cell"
    ]
   },
   "outputs": [],
   "source": [
    "def KeyFun():\n",
    "    print('Key = COMPLEX')"
   ]
  },
  {
   "cell_type": "code",
   "execution_count": 7,
   "metadata": {
    "tags": [
     "remove_cell"
    ]
   },
   "outputs": [],
   "source": [
    "def NewtonRaphson(Fun, x0, tol):\n",
    "    #write function to determine funD\n",
    "    fun = lambda x: eval(Fun)\n",
    "    funD = lambda x: eval(derivative(Fun))\n",
    "    i = 0\n",
    "    startTime = time.time()\n",
    "    if abs(fun(x0)) < tol:\n",
    "        print('Given intital x value is a root')\n",
    "        return x0\n",
    "    \n",
    "    while i < 2000:\n",
    "        xi = x0 - (fun(x0)/funD(x0))\n",
    "        x0 = xi\n",
    "        i += 1\n",
    "        \n",
    "        if fun(x0) < tol:\n",
    "            totalTime = time.time() - startTime\n",
    "            printFun(fun,x0,totalTime,i)\n",
    "            return x0 , totalTime, i\n",
    "        \n",
    "    totalTime = time.time() - startTime\n",
    "    printFun(fun, x0, totalTime, i)\n",
    "    \n",
    "    return x0 , totalTime , i"
   ]
  },
  {
   "cell_type": "code",
   "execution_count": 8,
   "metadata": {
    "tags": [
     "remove_cell"
    ]
   },
   "outputs": [],
   "source": [
    "def SecantMethod(Fun,x0,x1,tol):\n",
    "    i = 0\n",
    "    fun = lambda x: eval(Fun)\n",
    "    startTime = time.time()\n",
    "    if x0 == x1:\n",
    "        print('Given x0 and x1 are not roots but are equal to each other, choose different values!')\n",
    "        return\n",
    "    \n",
    "    if abs(fun(x1)) < tol:\n",
    "        print('Given intital x value is a root')\n",
    "        return x1\n",
    "    if abs(fun(x0)) < tol:\n",
    "        print('Given intital x value is a root')\n",
    "        return x0\n",
    "    \n",
    "    while abs(fun(x1)) > tol and i < 1000:\n",
    "        x2 = x1 - (fun(x1) * (x0 - x1)) / (fun(x0) - fun(x1))\n",
    "        x0 = x1\n",
    "        x1 = x2\n",
    "        \n",
    "        i += 1\n",
    "        \n",
    "    totalTime = time.time() - startTime\n",
    "    printFun(fun, x0, totalTime, i)\n",
    "    \n",
    "    return x1 , totalTime , i"
   ]
  },
  {
   "cell_type": "code",
   "execution_count": 9,
   "metadata": {
    "tags": [
     "remove_cell"
    ]
   },
   "outputs": [],
   "source": [
    "#Method was found online!!\n",
    "\n",
    "def BrentsMethod(Fun, x0, x1, tol):\n",
    "    startTime = time.time()\n",
    "    max_iter = 50\n",
    "    fun = lambda x: eval(Fun)\n",
    "    \n",
    "    fx0 = fun(x0)\n",
    "    fx1 = fun(x1)\n",
    "    assert (fx0 * fx1) <= 0, \"Root not bracketed\" \n",
    " \n",
    "    if abs(fx0) < abs(fx1):\n",
    "        x0, x1 = x1, x0\n",
    "        fx0, fx1 = fx1, fx0\n",
    " \n",
    "    x2, fx2 = x0, fx0\n",
    " \n",
    "    mflag = True\n",
    "    steps_taken = 0\n",
    " \n",
    "    while steps_taken < max_iter and abs(x1-x0) > tol:\n",
    "        fx0 = fun(x0)\n",
    "        fx1 = fun(x1)\n",
    "        fx2 = fun(x2)\n",
    " \n",
    "        if fx0 != fx2 and fx1 != fx2:\n",
    "            L0 = (x0 * fx1 * fx2) / ((fx0 - fx1) * (fx0 - fx2))\n",
    "            L1 = (x1 * fx0 * fx2) / ((fx1 - fx0) * (fx1 - fx2))\n",
    "            L2 = (x2 * fx1 * fx0) / ((fx2 - fx0) * (fx2 - fx1))\n",
    "            new = L0 + L1 + L2\n",
    " \n",
    "        else:\n",
    "            new = x1 - ( (fx1 * (x1 - x0)) / (fx1 - fx0) )\n",
    " \n",
    "        if ((new < ((3 * x0 + x1) / 4) or new > x1) or\n",
    "            (mflag == True and (abs(new - x1)) >= (abs(x1 - x2) / 2)) or\n",
    "            (mflag == False and (abs(new - x1)) >= (abs(x2 - d) / 2)) or\n",
    "            (mflag == True and (abs(x1 - x2)) < tol) or\n",
    "            (mflag == False and (abs(x2 - d)) < tol)):\n",
    "            new = (x0 + x1) / 2\n",
    "            mflag = True\n",
    " \n",
    "        else:\n",
    "            mflag = False\n",
    " \n",
    "        fnew = fun(new)\n",
    "        d, x2 = x2, x1\n",
    " \n",
    "        if (fx0 * fnew) < 0:\n",
    "            x1 = new\n",
    "        else:\n",
    "            x0 = new\n",
    " \n",
    "        if abs(fx0) < abs(fx1):\n",
    "            x0, x1 = x1, x0\n",
    " \n",
    "        steps_taken += 1\n",
    "    totalTime = time.time() - startTime\n",
    "    KeyFun()\n",
    "    printFun(fun, x0, totalTime, steps_taken)\n",
    "    \n",
    "    \n",
    "    return x1 , totalTime , steps_taken"
   ]
  },
  {
   "cell_type": "code",
   "execution_count": 10,
   "metadata": {
    "tags": [
     "hide_cell",
     "remove_cell"
    ]
   },
   "outputs": [],
   "source": [
    "def runFun(method):\n",
    "    w = FunSelector(method)\n",
    "    "
   ]
  },
  {
   "cell_type": "code",
   "execution_count": 11,
   "metadata": {
    "scrolled": true
   },
   "outputs": [
    {
     "data": {
      "application/vnd.jupyter.widget-view+json": {
       "model_id": "4a286a3b434446cb9150176584f2ff8a",
       "version_major": 2,
       "version_minor": 0
      },
      "text/plain": [
       "interactive(children=(Dropdown(description='method', options=('Brents Method', 'Secant Method', 'Newton-Raphso…"
      ]
     },
     "metadata": {},
     "output_type": "display_data"
    }
   ],
   "source": [
    "# interacts with runFun which displays interaction with each method\n",
    "w = interact(runFun,method = {'Newton-Raphson Method','Secant Method','Brents Method'})\n",
    "\n"
   ]
  },
  {
   "cell_type": "code",
   "execution_count": null,
   "metadata": {},
   "outputs": [],
   "source": []
  }
 ],
 "metadata": {
  "celltoolbar": "Tags",
  "kernelspec": {
   "display_name": "Python 3",
   "language": "python",
   "name": "python3"
  },
  "language_info": {
   "codemirror_mode": {
    "name": "ipython",
    "version": 3
   },
   "file_extension": ".py",
   "mimetype": "text/x-python",
   "name": "python",
   "nbconvert_exporter": "python",
   "pygments_lexer": "ipython3",
   "version": "3.7.1"
  }
 },
 "nbformat": 4,
 "nbformat_minor": 2
}
