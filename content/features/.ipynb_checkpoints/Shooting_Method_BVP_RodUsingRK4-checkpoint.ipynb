{
 "cells": [
  {
   "cell_type": "code",
   "execution_count": 8,
   "metadata": {
    "tags": [
     "remove_cell"
    ]
   },
   "outputs": [
    {
     "data": {
      "text/html": [
       "        <script type=\"text/javascript\">\n",
       "        window.PlotlyConfig = {MathJaxConfig: 'local'};\n",
       "        if (window.MathJax) {MathJax.Hub.Config({SVG: {font: \"STIX-Web\"}});}\n",
       "        if (typeof require !== 'undefined') {\n",
       "        require.undef(\"plotly\");\n",
       "        requirejs.config({\n",
       "            paths: {\n",
       "                'plotly': ['https://cdn.plot.ly/plotly-latest.min']\n",
       "            }\n",
       "        });\n",
       "        require(['plotly'], function(Plotly) {\n",
       "            window._Plotly = Plotly;\n",
       "        });\n",
       "        }\n",
       "        </script>\n",
       "        "
      ]
     },
     "metadata": {},
     "output_type": "display_data"
    }
   ],
   "source": [
    "from __future__ import print_function\n",
    "from ipywidgets import interact, interactive, fixed, interact_manual\n",
    "import ipywidgets as widgets\n",
    "from plotly.offline import download_plotlyjs, init_notebook_mode, plot, iplot\n",
    "import plotly.graph_objs as go\n",
    "init_notebook_mode(connected=True)\n",
    "\n",
    "import numpy as np\n",
    "import time\n",
    "import math\n"
   ]
  },
  {
   "cell_type": "code",
   "execution_count": 15,
   "metadata": {
    "tags": [
     "remove_cell"
    ]
   },
   "outputs": [],
   "source": [
    "def rk4(funD,xi,yi,zi,xf,n):\n",
    "    \n",
    "    h = (xf-xi)/(n-1)\n",
    "    y = np.zeros(n)\n",
    "    y[0] = yi\n",
    "    z = np.zeros(n)\n",
    "    z[0] = zi\n",
    "    \n",
    "    for i in range(n-1):\n",
    "        k12 = funD(xi,yi)\n",
    "        \n",
    "        k21 = zi +((h/2)*k12)\n",
    "        k22 = funD(xi,(yi+((h/2)*zi)))\n",
    "        \n",
    "        k31 = zi + ((h/2)*k22)\n",
    "        k32 = funD(xi,yi + ((h/2)*k21))\n",
    "        \n",
    "        k41 = zi + (h*k32)\n",
    "        k42 = funD(xi,yi + (h*k31))\n",
    "        \n",
    "        phi1 = (zi + (2*k21) + (2*k31) + k41) / 6\n",
    "        phi2 = (k12 + (2*k22) + (2*k32) + k42) / 6\n",
    "        \n",
    "        yi = yi + (phi1 * h)\n",
    "        zi = zi + (phi2 * h)\n",
    "        \n",
    "        y[i+1] = yi\n",
    "        z[i+1] = zi\n",
    "        \n",
    "        xi += h\n",
    "        \n",
    "    return y,z"
   ]
  },
  {
   "cell_type": "code",
   "execution_count": 16,
   "metadata": {
    "tags": [
     "remove_cell"
    ]
   },
   "outputs": [],
   "source": [
    "def KeyFun(theoreticalT,trueT):\n",
    "    if abs(theoreticalT/trueT) >= 0.95 and abs(theoreticalT/trueT) <= 1.05:\n",
    "        print('Huxley')\n"
   ]
  },
  {
   "cell_type": "code",
   "execution_count": 45,
   "metadata": {
    "tags": [
     "remove_cell"
    ]
   },
   "outputs": [],
   "source": [
    "def ShootingMethod(TLeft,TRight,n,Ta,zi):\n",
    "    TLeft = float(TLeft)\n",
    "    TRight = float(TRight)\n",
    "    n = int(n)\n",
    "    Ta = float(Ta)\n",
    "    zi = float(zi)\n",
    "    \n",
    "    StartTime = time.time()\n",
    "    xi = 0                     #xi and xf set the length of the rod as a standard 10(could be meters, could be feet)\n",
    "    xf = 10\n",
    "    h = 0.01\n",
    "    funD = lambda T,y: h * (T-Ta) \n",
    "    x = np.arange(xi+(xf/n),xf+(xf/n),(xf/n))\n",
    "    \n",
    "    y,z = rk4(funD,xi,TLeft,zi,xf,n)\n",
    "    \n",
    "    \n",
    "    TotalTime = time.time() - StartTime\n",
    "    print('Total time for Shooting Method is',TotalTime)\n",
    "    KeyFun(y[-1],TRight)\n",
    "    \n",
    "    plot_vals  = go.Scatter(name='Approximated temperature across rod', x=x, y=y)\n",
    "    plot_approx = go.Scatter(name='True temperature at end of rod', x=np.array([10]), y=np.array([TRight]))\n",
    "\n",
    "    iplot([plot_vals, plot_approx])\n",
    "    "
   ]
  },
  {
   "cell_type": "code",
   "execution_count": 47,
   "metadata": {},
   "outputs": [
    {
     "data": {
      "application/vnd.jupyter.widget-view+json": {
       "model_id": "b448235ed2704ca48ceb805c06c999dc",
       "version_major": 2,
       "version_minor": 0
      },
      "text/plain": [
       "interactive(children=(Text(value='40', description='TLeft'), Text(value='200', description='TRight'), Text(val…"
      ]
     },
     "metadata": {},
     "output_type": "display_data"
    }
   ],
   "source": [
    "w = interact(ShootingMethod, TLeft = '40' , TRight = '200', n = '5', Ta = '20', zi = '10')"
   ]
  },
  {
   "cell_type": "code",
   "execution_count": null,
   "metadata": {},
   "outputs": [],
   "source": []
  }
 ],
 "metadata": {
  "celltoolbar": "Tags",
  "kernelspec": {
   "display_name": "Python 3",
   "language": "python",
   "name": "python3"
  },
  "language_info": {
   "codemirror_mode": {
    "name": "ipython",
    "version": 3
   },
   "file_extension": ".py",
   "mimetype": "text/x-python",
   "name": "python",
   "nbconvert_exporter": "python",
   "pygments_lexer": "ipython3",
   "version": "3.7.1"
  }
 },
 "nbformat": 4,
 "nbformat_minor": 2
}
