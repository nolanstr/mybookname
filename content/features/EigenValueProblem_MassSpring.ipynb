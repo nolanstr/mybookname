{
 "cells": [
  {
   "cell_type": "code",
   "execution_count": 26,
   "metadata": {
    "tags": [
     "remove_cell"
    ]
   },
   "outputs": [
    {
     "data": {
      "text/html": [
       "        <script type=\"text/javascript\">\n",
       "        window.PlotlyConfig = {MathJaxConfig: 'local'};\n",
       "        if (window.MathJax) {MathJax.Hub.Config({SVG: {font: \"STIX-Web\"}});}\n",
       "        if (typeof require !== 'undefined') {\n",
       "        require.undef(\"plotly\");\n",
       "        requirejs.config({\n",
       "            paths: {\n",
       "                'plotly': ['https://cdn.plot.ly/plotly-latest.min']\n",
       "            }\n",
       "        });\n",
       "        require(['plotly'], function(Plotly) {\n",
       "            window._Plotly = Plotly;\n",
       "        });\n",
       "        }\n",
       "        </script>\n",
       "        "
      ]
     },
     "metadata": {},
     "output_type": "display_data"
    }
   ],
   "source": [
    "from __future__ import print_function\n",
    "from ipywidgets import interact, interactive, fixed, interact_manual\n",
    "import ipywidgets as widgets\n",
    "from plotly.offline import download_plotlyjs, init_notebook_mode, plot, iplot\n",
    "import plotly.graph_objs as go\n",
    "init_notebook_mode(connected=True)\n",
    "from scipy.linalg import lu\n",
    "\n",
    "import time\n",
    "import numpy as np\n",
    "import math as m"
   ]
  },
  {
   "cell_type": "code",
   "execution_count": 27,
   "metadata": {},
   "outputs": [],
   "source": [
    "#This example is originally from pages 789 to 792 from the class book"
   ]
  },
  {
   "cell_type": "code",
   "execution_count": 28,
   "metadata": {},
   "outputs": [],
   "source": [
    "def DeterminantEigenVals(m1,m2,k):\n",
    "    a = 1\n",
    "    \n",
    "    b = ((-2*k)/m1) + ((-2*k)/m2)\n",
    "\n",
    "    c = ((3*(k**2))/(m1*m2))\n",
    "\n",
    "    return a, b, c"
   ]
  },
  {
   "cell_type": "code",
   "execution_count": 29,
   "metadata": {},
   "outputs": [],
   "source": [
    "def Quadratic(a,b,c):\n",
    "    xPos = (-b + m.sqrt((b**2) - (4*a*c))) / (2*a)\n",
    "    xNeg = (-b - m.sqrt((b**2) - (4*a*c))) / (2*a)\n",
    "    \n",
    "    return xPos, xNeg"
   ]
  },
  {
   "cell_type": "code",
   "execution_count": 30,
   "metadata": {},
   "outputs": [],
   "source": [
    "def EigenSolver(m1,m2,k):\n",
    "    StartTime = time.time()\n",
    "    \n",
    "    m1,m2,k = float(m1),float(m2),float(k)\n",
    "    a,b,c = DeterminantEigenVals(m1,m2,k)\n",
    "    w1,w2 = Quadratic(a,b,c)\n",
    "    TotalTime = StartTime - time.time()\n",
    "    \n",
    "    print('The frequencies for the vibrations of m1 =',m1,'kg and m2 =',m2,'kg')\n",
    "    print('with a k value of',k,'N/m are w^2 =',w1,'and',w2,'s^-1.')\n",
    "    print('This calculation took',TotalTime,'seconds.')"
   ]
  },
  {
   "cell_type": "code",
   "execution_count": 31,
   "metadata": {},
   "outputs": [
    {
     "data": {
      "application/vnd.jupyter.widget-view+json": {
       "model_id": "056b0c89696c447db2e6570b1334e720",
       "version_major": 2,
       "version_minor": 0
      },
      "text/plain": [
       "interactive(children=(Text(value='40', description='m1'), Text(value='40', description='m2'), Text(value='200'…"
      ]
     },
     "metadata": {},
     "output_type": "display_data"
    }
   ],
   "source": [
    "w = interact(EigenSolver,m1='40',m2='40',k='200')\n"
   ]
  }
 ],
 "metadata": {
  "celltoolbar": "Tags",
  "kernelspec": {
   "display_name": "Python 3",
   "language": "python",
   "name": "python3"
  },
  "language_info": {
   "codemirror_mode": {
    "name": "ipython",
    "version": 3
   },
   "file_extension": ".py",
   "mimetype": "text/x-python",
   "name": "python",
   "nbconvert_exporter": "python",
   "pygments_lexer": "ipython3",
   "version": "3.7.1"
  }
 },
 "nbformat": 4,
 "nbformat_minor": 2
}
