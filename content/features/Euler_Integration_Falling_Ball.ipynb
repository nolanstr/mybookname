{
 "cells": [
  {
   "cell_type": "code",
   "execution_count": 2,
   "metadata": {
    "tags": [
     "remove_cell"
    ]
   },
   "outputs": [
    {
     "data": {
      "text/html": [
       "        <script type=\"text/javascript\">\n",
       "        window.PlotlyConfig = {MathJaxConfig: 'local'};\n",
       "        if (window.MathJax) {MathJax.Hub.Config({SVG: {font: \"STIX-Web\"}});}\n",
       "        if (typeof require !== 'undefined') {\n",
       "        require.undef(\"plotly\");\n",
       "        requirejs.config({\n",
       "            paths: {\n",
       "                'plotly': ['https://cdn.plot.ly/plotly-latest.min']\n",
       "            }\n",
       "        });\n",
       "        require(['plotly'], function(Plotly) {\n",
       "            window._Plotly = Plotly;\n",
       "        });\n",
       "        }\n",
       "        </script>\n",
       "        "
      ]
     },
     "metadata": {},
     "output_type": "display_data"
    }
   ],
   "source": [
    "from __future__ import print_function\n",
    "from ipywidgets import interact, interactive, fixed, interact_manual\n",
    "import ipywidgets as widgets\n",
    "from plotly.offline import download_plotlyjs, init_notebook_mode, plot, iplot\n",
    "import plotly.graph_objs as go\n",
    "init_notebook_mode(connected=True)\n",
    "\n",
    "import numpy as np\n",
    "import math\n"
   ]
  },
  {
   "cell_type": "code",
   "execution_count": 3,
   "metadata": {
    "tags": [
     "remove_cell"
    ]
   },
   "outputs": [],
   "source": [
    "# This is the derived equation for acceleration\n",
    "def get_a_vacm(v,params):\n",
    "    m,c,h,v_o,h = params   #Not used, just for consistancy\n",
    "    \n",
    "    a = 9.81    #gravitational acceleration(constant near earth)\n",
    "    \n",
    "    return a"
   ]
  },
  {
   "cell_type": "code",
   "execution_count": 4,
   "metadata": {
    "tags": [
     "remove_cell"
    ]
   },
   "outputs": [],
   "source": [
    "# This is the derived equation for acceleration through a viscous liquid\n",
    "\n",
    "def get_a_visc(v, params):\n",
    "    m,c,h,v_o,h = params\n",
    "    \n",
    "    g = 9.81   #gravitational Constant\n",
    "    \n",
    "    drag = c * v / m\n",
    "    \n",
    "    if drag > g:\n",
    "        print(\"Houston, we have a problem!\")\n",
    "        \n",
    "    else:\n",
    "        # looking good, keeping moving along\n",
    "        pass\n",
    "    \n",
    "    a = g - drag\n",
    "    \n",
    "    return a"
   ]
  },
  {
   "cell_type": "code",
   "execution_count": 5,
   "metadata": {
    "tags": [
     "remove_cell"
    ]
   },
   "outputs": [],
   "source": [
    "# This is an implementation of euler method for integrating an initial value problem\n",
    "def euler(ode, params):\n",
    "    m,c,h,v_o,h = params\n",
    "    \n",
    "    t = np.arange(0,10,h)\n",
    "    v = np.zeros(len(t))\n",
    "    v_int = np.zeros(len(t))\n",
    "    v[0] = v_o\n",
    "    \n",
    "    for i in range(len(t)):\n",
    "        if i == 0:\n",
    "            v_int[i] = v_o\n",
    "        else:\n",
    "            a = ode(v_int[i-1],params)\n",
    "            v_int[i] = v_int[i-1] + a * h\n",
    "            v[i] = v_int[i]\n",
    "            \n",
    "    return v"
   ]
  },
  {
   "cell_type": "code",
   "execution_count": 64,
   "metadata": {
    "tags": [
     "remove_cell"
    ]
   },
   "outputs": [],
   "source": [
    "def get_real_sol(ode,params):\n",
    "    m,c,h,v_o,h = params\n",
    "\n",
    "    t = np.arange(0,10,h)\n",
    "    v = np.zeros(len(t))\n",
    "    \n",
    "    if ode == 'viscous':\n",
    "        vFun = lambda v: v + 9.81 * m / c * (1.0 - np.exp(-c * h / m))\n",
    "\n",
    "    if ode == 'vacuum':\n",
    "        vFun = lambda v: v+ 9.81 * h\n",
    "   \n",
    "    v[0] = v_o\n",
    "    \n",
    "    for i in range(1,len(t)):\n",
    "        v[i] = vFun(v[i-1])\n",
    "    \n",
    "    return v"
   ]
  },
  {
   "cell_type": "code",
   "execution_count": 65,
   "metadata": {
    "tags": [
     "remove_cell"
    ]
   },
   "outputs": [],
   "source": [
    "# This returns which ode Euler's method will use\n",
    "def get_ode(ode):\n",
    "    if ode is 'vacuum':\n",
    "        ode = get_a_vacm\n",
    "    else:\n",
    "        ode = get_a_visc \n",
    "      \n",
    "    return ode"
   ]
  },
  {
   "cell_type": "code",
   "execution_count": 66,
   "metadata": {
    "tags": [
     "remove_cell"
    ]
   },
   "outputs": [],
   "source": [
    "def KeyFun(v):\n",
    "    for i in range(1,len(v)):\n",
    "        if v[i-1] > 0 and v[i] < 0:\n",
    "            print('Key = EIFB')\n",
    "            break\n",
    "        "
   ]
  },
  {
   "cell_type": "code",
   "execution_count": 67,
   "metadata": {
    "tags": [
     "remove_",
     "cell"
    ]
   },
   "outputs": [],
   "source": [
    "# This function simply calls those above and plots the computed data\n",
    "def plot_v(m, c, h, v_o, ODE):\n",
    "    \n",
    "    ode = get_ode(ODE)\n",
    "    params = [m,c,h,v_o,h]\n",
    "\n",
    "    v_real = get_real_sol(ODE,params)\n",
    "    v_approx = euler(ode,params)\n",
    "    error = abs(v_real - v_approx)\n",
    "    \n",
    "    KeyFun(v_approx)\n",
    "    \n",
    "    t_discrt = np.arange(0,10+h,h)\n",
    "    \n",
    "    # plot both datasets\n",
    "    plot_v = go.Scatter(name='solution', x=t_discrt, y=v_real)\n",
    "    plot_v_approx = go.Scatter(name='euler approx', x=t_discrt, y=v_approx)\n",
    "        \n",
    "    iplot([plot_v, plot_v_approx])\n",
    "    \n",
    "    "
   ]
  },
  {
   "cell_type": "code",
   "execution_count": 68,
   "metadata": {
    "scrolled": true
   },
   "outputs": [
    {
     "data": {
      "application/vnd.jupyter.widget-view+json": {
       "model_id": "a989adde4aee48ec9fd4b23d02eb448f",
       "version_major": 2,
       "version_minor": 0
      },
      "text/plain": [
       "interactive(children=(IntSlider(value=5, description='m', max=10, min=1), FloatSlider(value=0.5, description='…"
      ]
     },
     "metadata": {},
     "output_type": "display_data"
    }
   ],
   "source": [
    "# Define the variables that can be interacted with\n",
    "w = interact(plot_v, m=(1, 10, 1), c=(0.0, 1, 0.1), h=(0.05, 2, 0.05), v_o = (-5,5,1), ODE={'vacuum','viscous'})"
   ]
  },
  {
   "cell_type": "code",
   "execution_count": null,
   "metadata": {},
   "outputs": [],
   "source": []
  }
 ],
 "metadata": {
  "celltoolbar": "Tags",
  "kernelspec": {
   "display_name": "Python 3",
   "language": "python",
   "name": "python3"
  },
  "language_info": {
   "codemirror_mode": {
    "name": "ipython",
    "version": 3
   },
   "file_extension": ".py",
   "mimetype": "text/x-python",
   "name": "python",
   "nbconvert_exporter": "python",
   "pygments_lexer": "ipython3",
   "version": "3.7.1"
  }
 },
 "nbformat": 4,
 "nbformat_minor": 2
}
