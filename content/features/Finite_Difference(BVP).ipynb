{
 "cells": [
  {
   "cell_type": "code",
   "execution_count": 3,
   "metadata": {},
   "outputs": [
    {
     "data": {
      "text/html": [
       "        <script type=\"text/javascript\">\n",
       "        window.PlotlyConfig = {MathJaxConfig: 'local'};\n",
       "        if (window.MathJax) {MathJax.Hub.Config({SVG: {font: \"STIX-Web\"}});}\n",
       "        if (typeof require !== 'undefined') {\n",
       "        require.undef(\"plotly\");\n",
       "        requirejs.config({\n",
       "            paths: {\n",
       "                'plotly': ['https://cdn.plot.ly/plotly-latest.min']\n",
       "            }\n",
       "        });\n",
       "        require(['plotly'], function(Plotly) {\n",
       "            window._Plotly = Plotly;\n",
       "        });\n",
       "        }\n",
       "        </script>\n",
       "        "
      ]
     },
     "metadata": {},
     "output_type": "display_data"
    }
   ],
   "source": [
    "from __future__ import print_function\n",
    "from ipywidgets import interact, interactive, fixed, interact_manual\n",
    "import ipywidgets as widgets\n",
    "from plotly.offline import download_plotlyjs, init_notebook_mode, plot, iplot\n",
    "import plotly.graph_objs as go\n",
    "init_notebook_mode(connected=True)\n",
    "\n",
    "import time\n",
    "import numpy as np\n",
    "import math\n"
   ]
  },
  {
   "cell_type": "code",
   "execution_count": 16,
   "metadata": {},
   "outputs": [],
   "source": [
    "def CreateArray(TLeft,TRight,Ta,n):#This function creates the array according to a given equation For more info, go to page 787 in the class book\n",
    "        array = np.zeros([n-2,n-2])\n",
    "        b = np.zeros(len(array))\n",
    "        deltaX = (10/(n-1))\n",
    "        hPrime = 0.01\n",
    "        \n",
    "        for i in range(len(array)):\n",
    "            if i == 0:\n",
    "                array[i,i] = 2 + (hPrime * (deltaX**2))\n",
    "                array[i,i+1] = -1\n",
    "                b[i] = (hPrime*(deltaX**2) * Ta) + TLeft\n",
    "                \n",
    "            if i >0 and i < len(array) - 1:\n",
    "                array[i,i-1] = -1\n",
    "                array[i,i] = 2 + (hPrime * (deltaX**2))\n",
    "                array[i,i+1] = -1    \n",
    "                b[i] = hPrime * (deltaX**2) * Ta\n",
    "                \n",
    "            if i == len(array) - 1:\n",
    "                array[i,i-1] = -1\n",
    "                array[i,i] = 2 + (hPrime * (deltaX**2))                \n",
    "                b[i] = (hPrime*(deltaX**2) * Ta) + TRight\n",
    "        \n",
    "        return array,b"
   ]
  },
  {
   "cell_type": "code",
   "execution_count": 17,
   "metadata": {},
   "outputs": [],
   "source": [
    "def NaiveGauss(array,b):\n",
    "    startTime = time.time()\n",
    "    array = np.array(array , dtype = 'float')\n",
    "    b = np.array(b , dtype = 'float')\n",
    "    x = np.zeros(len(b))\n",
    "    combined = np.zeros([len(b),len(b) + 1])\n",
    "    \n",
    "    for i in range(len(b)):\n",
    "        if array[i,i] == 0:\n",
    "            print('Naive Gauss only work sif the pivot does not equal 0!(reorganize if neccessary!)')\n",
    "            return 'Error'\n",
    "    \n",
    "    for i in range(len(b)):\n",
    "        for j in range(len(b)):\n",
    "            combined[i,j] = array[i,j]\n",
    "        combined[i,len(b)] = b[i]\n",
    "    \n",
    "    \n",
    "    for i in range(len(b)):\n",
    "        combined[i] = combined[i]/combined[i,i]\n",
    "        for j in range(i + 1,len(b)):\n",
    "            combined[j] -= (combined[i] * combined[j,i])\n",
    "            \n",
    "    array = np.delete(combined,len(b),1)\n",
    "    b = np.delete(combined,np.s_[0:len(b)],1)\n",
    "\n",
    "    for i in np.arange(len(b)-1,-1,-1):\n",
    "        vals = array[i] * x\n",
    "        x[i] = b[i] - sum(vals)\n",
    "    \n",
    "    totalTime = time.time() - startTime\n",
    "    \n",
    "    return x, totalTime"
   ]
  },
  {
   "cell_type": "code",
   "execution_count": 29,
   "metadata": {},
   "outputs": [],
   "source": [
    "def DisplayTempArray(TLeft,TRight,Ta,n):\n",
    "    TLeft,TRight,Ta,n = float(TLeft),float(TRight),float(Ta),int(n)\n",
    "    \n",
    "    array,b = CreateArray(TLeft,TRight,Ta,n)\n",
    "    innerNodes, time1 = NaiveGauss(array,b)\n",
    "    ApproximatedTemps = np.zeros(n)\n",
    "    x = np.linspace(0,10,n)\n",
    "    \n",
    "    for i in range(n):\n",
    "        if i == 0:\n",
    "            ApproximatedTemps[i] = TLeft\n",
    "        if i > 0 and i < n - 1:\n",
    "            ApproximatedTemps[i] = innerNodes[i-1]\n",
    "        if i == n - 1:\n",
    "            ApproximatedTemps[i] = TRight\n",
    "    \n",
    "    plot_Temps = go.Scatter(name='Temperature Approximations', x=x, y=ApproximatedTemps)\n",
    "        \n",
    "    iplot([plot_Temps])\n",
    "    \n",
    "    return\n",
    "        "
   ]
  },
  {
   "cell_type": "code",
   "execution_count": 30,
   "metadata": {},
   "outputs": [
    {
     "data": {
      "application/vnd.jupyter.widget-view+json": {
       "model_id": "d9833b25d9af4927b1040e8013f69385",
       "version_major": 2,
       "version_minor": 0
      },
      "text/plain": [
       "interactive(children=(Text(value='40', description='TLeft'), Text(value='200', description='TRight'), Text(val…"
      ]
     },
     "metadata": {},
     "output_type": "display_data"
    }
   ],
   "source": [
    "w = interact(DisplayTempArray, TLeft = '40' , TRight = '200' , Ta = '20' , n = '6')\n"
   ]
  },
  {
   "cell_type": "code",
   "execution_count": null,
   "metadata": {},
   "outputs": [],
   "source": []
  }
 ],
 "metadata": {
  "kernelspec": {
   "display_name": "Python 3",
   "language": "python",
   "name": "python3"
  },
  "language_info": {
   "codemirror_mode": {
    "name": "ipython",
    "version": 3
   },
   "file_extension": ".py",
   "mimetype": "text/x-python",
   "name": "python",
   "nbconvert_exporter": "python",
   "pygments_lexer": "ipython3",
   "version": "3.7.1"
  }
 },
 "nbformat": 4,
 "nbformat_minor": 2
}
