{
 "cells": [
  {
   "cell_type": "code",
   "execution_count": 1,
   "metadata": {},
   "outputs": [
    {
     "data": {
      "text/html": [
       "        <script type=\"text/javascript\">\n",
       "        window.PlotlyConfig = {MathJaxConfig: 'local'};\n",
       "        if (window.MathJax) {MathJax.Hub.Config({SVG: {font: \"STIX-Web\"}});}\n",
       "        if (typeof require !== 'undefined') {\n",
       "        require.undef(\"plotly\");\n",
       "        requirejs.config({\n",
       "            paths: {\n",
       "                'plotly': ['https://cdn.plot.ly/plotly-latest.min']\n",
       "            }\n",
       "        });\n",
       "        require(['plotly'], function(Plotly) {\n",
       "            window._Plotly = Plotly;\n",
       "        });\n",
       "        }\n",
       "        </script>\n",
       "        "
      ]
     },
     "metadata": {},
     "output_type": "display_data"
    }
   ],
   "source": [
    "from __future__ import print_function\n",
    "from ipywidgets import interact, interactive, fixed, interact_manual\n",
    "import ipywidgets as widgets\n",
    "from plotly.offline import download_plotlyjs, init_notebook_mode, plot, iplot\n",
    "import plotly.graph_objs as go\n",
    "init_notebook_mode(connected=True)\n",
    "from scipy.linalg import lu\n",
    "\n",
    "import time\n",
    "import numpy as np\n",
    "import math\n"
   ]
  },
  {
   "cell_type": "code",
   "execution_count": 2,
   "metadata": {},
   "outputs": [],
   "source": [
    "def NaiveGauss(array,b):\n",
    "    startTime = time.time()\n",
    "    array = np.array(array , dtype = 'float')\n",
    "    b = np.array(b , dtype = 'float')\n",
    "    x = np.zeros(len(b))\n",
    "    combined = np.zeros([len(b),len(b) + 1])\n",
    "    \n",
    "    for i in range(len(b)):\n",
    "        if array[i,i] == 0:\n",
    "            print('Naive Gauss only work sif the pivot does not equal 0!(reorganize if neccessary!)')\n",
    "            return 'Error'\n",
    "    \n",
    "    for i in range(len(b)):\n",
    "        for j in range(len(b)):\n",
    "            combined[i,j] = array[i,j]\n",
    "        combined[i,len(b)] = b[i]\n",
    "    \n",
    "    \n",
    "    for i in range(len(b)):\n",
    "        combined[i] = combined[i]/combined[i,i]\n",
    "        for j in range(i + 1,len(b)):\n",
    "            combined[j] -= (combined[i] * combined[j,i])\n",
    "            \n",
    "    array = np.delete(combined,len(b),1)\n",
    "    b = np.delete(combined,np.s_[0:len(b)],1)\n",
    "\n",
    "    for i in np.arange(len(b)-1,-1,-1):\n",
    "        vals = array[i] * x\n",
    "        x[i] = b[i] - sum(vals)\n",
    "    \n",
    "    totalTime = time.time() - startTime\n",
    "    \n",
    "    return x, totalTime"
   ]
  },
  {
   "cell_type": "code",
   "execution_count": 3,
   "metadata": {},
   "outputs": [],
   "source": [
    "def LUDecomp(array,b):\n",
    "    StartTime = time.time()\n",
    "    \n",
    "    array = np.array(array , dtype = 'float')\n",
    "    b = np.array(b , dtype = 'float')\n",
    "    _ ,lower,upper = lu(array)\n",
    "    x = np.zeros(len(b))\n",
    "    \n",
    "    \n",
    "    D, time1 = NaiveGauss(lower,b)\n",
    "    x, time2 = NaiveGauss(upper,D)\n",
    "    totalTime = (time.time() - StartTime) + time1 + time2\n",
    "    return x , totalTime"
   ]
  },
  {
   "cell_type": "code",
   "execution_count": 4,
   "metadata": {},
   "outputs": [],
   "source": [
    "def GaussSeidel(array,b,maxItter):\n",
    "    StartTime = time.time()\n",
    "    \n",
    "    array = np.array(array,dtype = 'float')\n",
    "    b = np.array(b,dtype = 'float')\n",
    "    x = np.zeros(len(b), dtype = 'float')\n",
    "\n",
    "    for loop in range(maxItter):\n",
    "        \n",
    "        for i in range(len(b)):\n",
    "            As = np.delete(array[i],i)\n",
    "            bs = np.delete(x,i)\n",
    "            sumVals = sum(As * bs)\n",
    "            \n",
    "            x[i] = (b[i] - sumVals) / array[i,i]\n",
    "    TotalTime = time.time() - StartTime\n",
    "            \n",
    "    return x , TotalTime"
   ]
  },
  {
   "cell_type": "code",
   "execution_count": 5,
   "metadata": {},
   "outputs": [],
   "source": [
    "def FunSelector(function,array,b):\n",
    "    \n",
    "    if function == 'Naive Gauss':\n",
    "        x, totalTime = NaiveGauss(array,b)\n",
    "        print('x =',x)\n",
    "        print('Time needed for Naive Gauss Method =',totalTime)\n",
    "        \n",
    "    if function == 'LU Decomposition':\n",
    "        x, TotalTime = LUDecomp(array,b)\n",
    "        print('x =',x)\n",
    "        print('LU Decomposition took',TotalTime,'seconds to complete.')\n",
    "    \n",
    "    if function == 'Gauss Seidel':\n",
    "        x , TotalTime = GaussSeidel(array,b,10)  #Tolerance is built in for this example\n",
    "        print('x =',x)\n",
    "        print('Gauss-Seidel took',TotalTime,'seconds to complete with 100 iterations.')\n",
    "    return\n",
    "    \n",
    "    "
   ]
  },
  {
   "cell_type": "code",
   "execution_count": 6,
   "metadata": {},
   "outputs": [],
   "source": [
    "def runFun(function,row1,row2,row3,b):\n",
    "    array = np.array([eval(row1),eval(row2),eval(row3)])\n",
    "    b = np.array(eval(b))\n",
    "    print(array,'* x = ',b)\n",
    "    \n",
    "    FunSelector(function,array,b)\n",
    "    \n",
    "    return\n"
   ]
  },
  {
   "cell_type": "code",
   "execution_count": 7,
   "metadata": {},
   "outputs": [
    {
     "name": "stdout",
     "output_type": "stream",
     "text": [
      "(array([0., 0., 0.]), 0.002537965774536133)\n"
     ]
    }
   ],
   "source": [
    "array = np.array([[1,0,0],[0,1,0],[0,0,1]])\n",
    "b = np.array([0,0,0])\n",
    "\n",
    "print(NaiveGauss(array,b))\n"
   ]
  },
  {
   "cell_type": "code",
   "execution_count": 8,
   "metadata": {
    "scrolled": true
   },
   "outputs": [
    {
     "data": {
      "application/vnd.jupyter.widget-view+json": {
       "model_id": "373973d41bce458c9e57a1fdd564b436",
       "version_major": 2,
       "version_minor": 0
      },
      "text/plain": [
       "interactive(children=(Dropdown(description='function', options=('Naive Gauss', 'LU Decomposition', 'Gauss Seid…"
      ]
     },
     "metadata": {},
     "output_type": "display_data"
    }
   ],
   "source": [
    "# interacts with runFun which displays interaction with each method\n",
    "w = interact(runFun , function = {'Naive Gauss','LU Decomposition','Gauss Seidel'} , row1 = '[1,0,0]' , row2 = '[0,1,0]' , row3 = '[0,0,1]' , b = '[0,0,0]')\n",
    "\n"
   ]
  },
  {
   "cell_type": "code",
   "execution_count": null,
   "metadata": {},
   "outputs": [],
   "source": []
  }
 ],
 "metadata": {
  "celltoolbar": "Tags",
  "kernelspec": {
   "display_name": "Python 3",
   "language": "python",
   "name": "python3"
  },
  "language_info": {
   "codemirror_mode": {
    "name": "ipython",
    "version": 3
   },
   "file_extension": ".py",
   "mimetype": "text/x-python",
   "name": "python",
   "nbconvert_exporter": "python",
   "pygments_lexer": "ipython3",
   "version": "3.7.1"
  }
 },
 "nbformat": 4,
 "nbformat_minor": 2
}
