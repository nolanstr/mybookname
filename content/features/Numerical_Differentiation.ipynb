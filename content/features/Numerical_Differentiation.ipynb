{
 "cells": [
  {
   "cell_type": "code",
   "execution_count": 1,
   "metadata": {
    "tags": [
     "remove_cell"
    ]
   },
   "outputs": [
    {
     "data": {
      "text/html": [
       "        <script type=\"text/javascript\">\n",
       "        window.PlotlyConfig = {MathJaxConfig: 'local'};\n",
       "        if (window.MathJax) {MathJax.Hub.Config({SVG: {font: \"STIX-Web\"}});}\n",
       "        if (typeof require !== 'undefined') {\n",
       "        require.undef(\"plotly\");\n",
       "        requirejs.config({\n",
       "            paths: {\n",
       "                'plotly': ['https://cdn.plot.ly/plotly-latest.min']\n",
       "            }\n",
       "        });\n",
       "        require(['plotly'], function(Plotly) {\n",
       "            window._Plotly = Plotly;\n",
       "        });\n",
       "        }\n",
       "        </script>\n",
       "        "
      ]
     },
     "metadata": {},
     "output_type": "display_data"
    }
   ],
   "source": [
    "from __future__ import print_function\n",
    "from ipywidgets import interact, interactive, fixed, interact_manual\n",
    "import ipywidgets as widgets\n",
    "from plotly.offline import download_plotlyjs, init_notebook_mode, plot, iplot\n",
    "import plotly.graph_objs as go\n",
    "init_notebook_mode(connected=True)\n",
    "\n",
    "import time\n",
    "import numpy as np\n",
    "import math as m\n",
    "import numpy as np"
   ]
  },
  {
   "cell_type": "code",
   "execution_count": 2,
   "metadata": {
    "tags": [
     "remove_cell"
    ]
   },
   "outputs": [],
   "source": [
    "def ForwardFDD(fun,x,h):\n",
    "    \n",
    "    deltaF = fun(x+h) - fun(x)\n",
    "    funD = deltaF / h\n",
    "    \n",
    "    funDD = (fun(x+(2*h)) - (2*fun(x+h)) + fun(x)) / (h**2)\n",
    "    \n",
    "    return funD, funDD"
   ]
  },
  {
   "cell_type": "code",
   "execution_count": 3,
   "metadata": {
    "tags": [
     "remove_cell"
    ]
   },
   "outputs": [],
   "source": [
    "def BackwardFDD(fun,x,h):\n",
    "    \n",
    "    deltaF = fun(x) - fun(x-h)\n",
    "    funD = deltaF / h\n",
    "    \n",
    "    funDD = (fun(x) - (2*fun(x-h)) + fun(x-(2*h))) / (h**2)\n",
    "    \n",
    "    return funD, funDD"
   ]
  },
  {
   "cell_type": "code",
   "execution_count": 4,
   "metadata": {
    "tags": [
     "remove_cell"
    ]
   },
   "outputs": [],
   "source": [
    "def CenteredFDD(fun,x,h):\n",
    "    \n",
    "    funD = (fun(x+h) - fun(x-h)) / (2*h)\n",
    "    \n",
    "    funDD = (fun(x+h) - (2*fun(x)) + fun(x-h)) / (h**2)\n",
    "    \n",
    "    return funD, funDD"
   ]
  },
  {
   "cell_type": "code",
   "execution_count": 5,
   "metadata": {
    "tags": [
     "remove_cell"
    ]
   },
   "outputs": [],
   "source": [
    "def HigherForwardFDD(fun,x,h):\n",
    "    \n",
    "    funD = (-fun(x+(2*h)) + (4*fun(x+h)) - (3*fun(x))) / (2*h)\n",
    "    \n",
    "    funDD = (-fun(x+(3*h)) + (4*fun(x+(2*h))) - (5*fun(x+h)) + (2*fun(x))) / (h**2)\n",
    "    \n",
    "    return funD, funDD"
   ]
  },
  {
   "cell_type": "code",
   "execution_count": 6,
   "metadata": {
    "tags": [
     "remove_cell"
    ]
   },
   "outputs": [],
   "source": [
    "def HigherBackwardFDD(fun,x,h):\n",
    "    \n",
    "    funD = ((3*fun(x)) - (4*fun(x-h)) + fun(x-(2*h))) / (2*h)\n",
    "    \n",
    "    funDD = ((2*fun(x)) - (5*fun(x-h)) + (4*fun(x-(2*h))) - fun(x-(3*h))) / (h**2)\n",
    "    \n",
    "    return funD, funDD"
   ]
  },
  {
   "cell_type": "code",
   "execution_count": 7,
   "metadata": {
    "tags": [
     "remove_cell"
    ]
   },
   "outputs": [],
   "source": [
    "def HigherCenteredFDD(fun,x,h):\n",
    "    \n",
    "    funD = (-fun(x+(2*h)) + (8*fun(x+h)) - (8*fun(x-h)) + fun(x-(2*h))) / (12*h)\n",
    "    \n",
    "    funDD = (-fun(x+(2*h)) + (16*fun(x+h)) - (30*fun(x)) + (16*fun(x-h)) - fun(x-(2*h))) / (12*(h**2))\n",
    "    \n",
    "    return funD, funDD"
   ]
  },
  {
   "cell_type": "code",
   "execution_count": 8,
   "metadata": {
    "tags": [
     "remove_cell"
    ]
   },
   "outputs": [],
   "source": [
    "def IllustrateSlope(fun, funD, X, h):\n",
    "    \n",
    "    m = funD\n",
    "    b = fun(X)\n",
    "    fun = lambda x: b + (m*(x-X))\n",
    "    \n",
    "    xVals = np.arange(X-(0.5*h),X+(0.5*h),h/20)\n",
    "    slopeVals = np.array([fun(xVals[i]) for i in range(len(xVals))])\n",
    "    \n",
    "    return xVals, slopeVals"
   ]
  },
  {
   "cell_type": "code",
   "execution_count": 9,
   "metadata": {
    "tags": [
     "remove_cell"
    ]
   },
   "outputs": [],
   "source": [
    "def functionPlot(fun,x,h):\n",
    "    \n",
    "    xVals = np.arange(x-(2*h),x+(2*h),h/20)\n",
    "    funVals = np.array([fun(xVals[i]) for i in range(len(xVals))])\n",
    "    \n",
    "    return xVals, funVals"
   ]
  },
  {
   "cell_type": "code",
   "execution_count": 10,
   "metadata": {
    "tags": [
     "remove_cell"
    ]
   },
   "outputs": [],
   "source": [
    "def PlotFun(fun,funD,x,h):\n",
    "    xSlope,ySlope = IllustrateSlope(fun,funD,x,h)\n",
    "    x,y = functionPlot(fun,x,h)\n",
    "    \n",
    "    plot_true = go.Scatter(name='True Values', x=x, y=y)\n",
    "    plot_approx = go.Scatter(name='Estimated Slope', x=xSlope, y=ySlope)\n",
    "        \n",
    "    iplot([plot_true, plot_approx])"
   ]
  },
  {
   "cell_type": "code",
   "execution_count": 11,
   "metadata": {
    "tags": [
     "remove_cell"
    ]
   },
   "outputs": [],
   "source": [
    "def Execute(method,Fun,x,h):\n",
    "    x = float(x)\n",
    "    h = float(h)\n",
    "    StartTime = time.time()\n",
    "    \n",
    "    fun = lambda x: eval(Fun)\n",
    "    \n",
    "    if method == 'Forward':\n",
    "        funD, funDD = ForwardFDD(fun,x,h)\n",
    "        print('The approximated slope using Forward finite-divided-difference is',funD)\n",
    "        print('with a second derivative equal to',funDD,'.')\n",
    "        PlotFun(fun,funD,x,h)\n",
    "        \n",
    "    if method == 'Backward':\n",
    "        funD, funDD = BackwardFDD(fun,x,h)\n",
    "        print('The approximated slope using Backward finite-divided-difference is',funD)\n",
    "        print('with a second derivative equal to',funDD,'.')\n",
    "        PlotFun(fun,funD,x,h)\n",
    "        \n",
    "    if method == 'Centered':\n",
    "        funD, funDD = CenteredFDD(fun,x,h)\n",
    "        print('The approximated slope using Centered finite-divided-difference is',funD)\n",
    "        print('with a second derivative equal to',funDD,'.')\n",
    "        PlotFun(fun,funD,x,h)\n",
    "        \n",
    "    if method == 'Higher Accuracy Forward':\n",
    "        funD, funDD = HigherForwardFDD(fun,x,h)\n",
    "        print('The approximated slope using higher accuracy Forward finite-divided-difference is',funD)\n",
    "        print('with a second derivative equal to',funDD,'.')\n",
    "        PlotFun(fun,funD,x,h)\n",
    "        \n",
    "    if method == 'Higher Accuracy Backward':\n",
    "        funD, funDD = HigherBackwardFDD(fun,x,h)\n",
    "        print('The approximated slope using higher accuracy Backward finite-divided-difference is',funD)\n",
    "        print('with a second derivative equal to',funDD,'.')\n",
    "        PlotFun(fun,funD,x,h)\n",
    "        \n",
    "    if method == 'Higher Accuracy Centered':\n",
    "        funD, funDD = HigherCenteredFDD(fun,x,h)\n",
    "        print('The approximated slope using higher accuracy Centered finite-divided-difference is',funD)\n",
    "        print('with a second derivative equal to',funDD,'.')\n",
    "        PlotFun(fun,funD,x,h)       \n",
    "    TotalTime = time.time() - StartTime\n",
    "    print('Time to complete is',TotalTime,'seconds.')"
   ]
  },
  {
   "cell_type": "code",
   "execution_count": 12,
   "metadata": {},
   "outputs": [
    {
     "data": {
      "application/vnd.jupyter.widget-view+json": {
       "model_id": "16366fc547694fb8a6cacf4ec2df52f0",
       "version_major": 2,
       "version_minor": 0
      },
      "text/plain": [
       "interactive(children=(Dropdown(description='method', options=('Higher Accuracy Forward', 'Forward', 'Higher Ac…"
      ]
     },
     "metadata": {},
     "output_type": "display_data"
    }
   ],
   "source": [
    "w = interact(Execute, method={'Forward','Backward','Centered','Higher Accuracy Forward','Higher Accuracy Backward','Higher Accuracy Centered'}, Fun = 'x**2', x = '0', h = '0.2')\n",
    "\n"
   ]
  },
  {
   "cell_type": "code",
   "execution_count": null,
   "metadata": {},
   "outputs": [],
   "source": []
  }
 ],
 "metadata": {
  "celltoolbar": "Tags",
  "kernelspec": {
   "display_name": "Python 3",
   "language": "python",
   "name": "python3"
  },
  "language_info": {
   "codemirror_mode": {
    "name": "ipython",
    "version": 3
   },
   "file_extension": ".py",
   "mimetype": "text/x-python",
   "name": "python",
   "nbconvert_exporter": "python",
   "pygments_lexer": "ipython3",
   "version": "3.7.1"
  }
 },
 "nbformat": 4,
 "nbformat_minor": 2
}
