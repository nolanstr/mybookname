{
 "cells": [
  {
   "cell_type": "code",
   "execution_count": 6,
   "metadata": {},
   "outputs": [
    {
     "data": {
      "text/html": [
       "        <script type=\"text/javascript\">\n",
       "        window.PlotlyConfig = {MathJaxConfig: 'local'};\n",
       "        if (window.MathJax) {MathJax.Hub.Config({SVG: {font: \"STIX-Web\"}});}\n",
       "        if (typeof require !== 'undefined') {\n",
       "        require.undef(\"plotly\");\n",
       "        requirejs.config({\n",
       "            paths: {\n",
       "                'plotly': ['https://cdn.plot.ly/plotly-latest.min']\n",
       "            }\n",
       "        });\n",
       "        require(['plotly'], function(Plotly) {\n",
       "            window._Plotly = Plotly;\n",
       "        });\n",
       "        }\n",
       "        </script>\n",
       "        "
      ]
     },
     "metadata": {},
     "output_type": "display_data"
    }
   ],
   "source": [
    "from __future__ import print_function\n",
    "from ipywidgets import interact, interactive, fixed, interact_manual\n",
    "import ipywidgets as widgets\n",
    "from plotly.offline import download_plotlyjs, init_notebook_mode, plot, iplot\n",
    "import plotly.graph_objs as go\n",
    "init_notebook_mode(connected=True)\n",
    "\n",
    "import time\n",
    "import numpy as np\n",
    "import math as m\n",
    "import numpy as np\n",
    "from scipy.optimize import minimize"
   ]
  },
  {
   "cell_type": "code",
   "execution_count": 123,
   "metadata": {},
   "outputs": [],
   "source": [
    "def Obj(params):\n",
    "    \n",
    "    L,D = params[0],params[1]\n",
    "    \n",
    "    t = 0.03\n",
    "    \n",
    "    p = 8000  #kg/m^3\n",
    "    \n",
    "    cw = 20 # $/m\n",
    "    \n",
    "    cm = 4.5 # $/kg\n",
    "    \n",
    "    Vo = 0.8 #required volume\n",
    "\n",
    "    LMax = 2\n",
    "    \n",
    "    Dmax = 1\n",
    "    \n",
    "    VolTank = (np.pi*(D**2)*L) / 4\n",
    "    \n",
    "    if (VolumeTank(L,D)/Vo) < .98 or (VolumeTank(L,D)/Vo) > 1.05:\n",
    "        return 10**10\n",
    "    \n",
    "    \n",
    "    volCyl =  (L*np.pi) * ((((D/2) + t)**2) - ((D/2)**2))\n",
    "    volPla = (np.pi * (((D/2) + t)**2) * t) * 2\n",
    "    \n",
    "    m = (volCyl + volPla) * p    \n",
    "    \n",
    "    lw = (4*np.pi) * (D + t)\n",
    "    \n",
    "    Cost = (cm * m) + (cw * lw)\n",
    "    \n",
    "    return Cost"
   ]
  },
  {
   "cell_type": "code",
   "execution_count": 128,
   "metadata": {},
   "outputs": [],
   "source": [
    "def Optimize(params):\n",
    "    \n",
    "    bnds = ((0.1,2.0),(0.1,1.0))\n",
    "    \n",
    "    OptimalCost = minimize(Obj,(1,1),method = 'TNC', bounds = bnds, tol = 1e-6)\n",
    "    \n",
    "    return OptimalCost\n",
    "    \n",
    "    "
   ]
  },
  {
   "cell_type": "code",
   "execution_count": 129,
   "metadata": {},
   "outputs": [
    {
     "name": "stdout",
     "output_type": "stream",
     "text": [
      "     fun: 5653.386530727479\n",
      "     jac: array([3493.25182469, 7236.15466995])\n",
      " message: 'Converged (|f_n-f_(n-1)| ~= 0)'\n",
      "    nfev: 53\n",
      "     nit: 2\n",
      "  status: 1\n",
      " success: True\n",
      "       x: array([0.99907701, 0.99957091])\n"
     ]
    }
   ],
   "source": [
    "L = 1.0\n",
    "D = 0.75\n",
    "minimizedCost = Optimize([L,D])\n",
    "print(minimizedCost)\n"
   ]
  },
  {
   "cell_type": "code",
   "execution_count": null,
   "metadata": {},
   "outputs": [],
   "source": []
  }
 ],
 "metadata": {
  "kernelspec": {
   "display_name": "Python 3",
   "language": "python",
   "name": "python3"
  },
  "language_info": {
   "codemirror_mode": {
    "name": "ipython",
    "version": 3
   },
   "file_extension": ".py",
   "mimetype": "text/x-python",
   "name": "python",
   "nbconvert_exporter": "python",
   "pygments_lexer": "ipython3",
   "version": "3.7.1"
  }
 },
 "nbformat": 4,
 "nbformat_minor": 2
}
