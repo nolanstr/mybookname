{
 "cells": [
  {
   "cell_type": "code",
   "execution_count": 49,
   "metadata": {
    "tags": [
     "remove_cell"
    ]
   },
   "outputs": [
    {
     "data": {
      "text/html": [
       "        <script type=\"text/javascript\">\n",
       "        window.PlotlyConfig = {MathJaxConfig: 'local'};\n",
       "        if (window.MathJax) {MathJax.Hub.Config({SVG: {font: \"STIX-Web\"}});}\n",
       "        if (typeof require !== 'undefined') {\n",
       "        require.undef(\"plotly\");\n",
       "        requirejs.config({\n",
       "            paths: {\n",
       "                'plotly': ['https://cdn.plot.ly/plotly-latest.min']\n",
       "            }\n",
       "        });\n",
       "        require(['plotly'], function(Plotly) {\n",
       "            window._Plotly = Plotly;\n",
       "        });\n",
       "        }\n",
       "        </script>\n",
       "        "
      ]
     },
     "metadata": {},
     "output_type": "display_data"
    }
   ],
   "source": [
    "from __future__ import print_function\n",
    "from ipywidgets import interact, interactive, fixed, interact_manual\n",
    "import ipywidgets as widgets\n",
    "from plotly.offline import download_plotlyjs, init_notebook_mode, plot, iplot\n",
    "import plotly.graph_objs as go\n",
    "init_notebook_mode(connected=True)\n",
    "from scipy.linalg import lu\n",
    "\n",
    "import time\n",
    "import numpy as np\n",
    "import math as m\n",
    "import numpy as np"
   ]
  },
  {
   "cell_type": "code",
   "execution_count": 50,
   "metadata": {
    "tags": [
     "remove_cell"
    ]
   },
   "outputs": [],
   "source": [
    "def TrueError(fun,x,funPoint):\n",
    "    ea = abs((funPoint - fun(x)) / fun(x)) * 100\n",
    "    return ea"
   ]
  },
  {
   "cell_type": "code",
   "execution_count": 51,
   "metadata": {
    "tags": [
     "remove_cell"
    ]
   },
   "outputs": [],
   "source": [
    "def PrintFun(fun,x,funPoint):\n",
    "    plot_approx = go.Scatter(name='Approximated value according to method used', x=np.array([x]), y=np.array([funPoint]))\n",
    "    ea = TrueError(fun,x,funPoint)\n",
    "    x = np.arange(x - 5, x + 5, 0.1)\n",
    "    y = np.zeros(len(x))\n",
    "    \n",
    "    for i in range(len(x)):\n",
    "        y[i] = fun(x[i])\n",
    "    \n",
    "    plot_vals = go.Scatter(name='True plot of function(with step size of 0.1', x=x, y=y)\n",
    "    print('The true approximate error is',ea,'percent.')\n",
    "    iplot([plot_vals, plot_approx])\n",
    "    "
   ]
  },
  {
   "cell_type": "code",
   "execution_count": 52,
   "metadata": {
    "tags": [
     "remove_cell"
    ]
   },
   "outputs": [],
   "source": [
    "def KeyFun(ea):\n",
    "    if str(ea) == 'nan':\n",
    "        print('Key = Nietzsche')"
   ]
  },
  {
   "cell_type": "code",
   "execution_count": 53,
   "metadata": {
    "tags": [
     "remove_cell"
    ]
   },
   "outputs": [],
   "source": [
    "def Linear(Fun,point,x0,x1):\n",
    "    \n",
    "    fun = lambda x: eval(Fun)\n",
    "    funPoint = fun(x0) + (((fun(x1) - fun(x0)) *  (point - x0) / (x1-x0)))\n",
    "    \n",
    "    KeyFun(TrueError(fun,point,funPoint))\n",
    "    PrintFun(fun,point,funPoint)\n",
    "    "
   ]
  },
  {
   "cell_type": "code",
   "execution_count": 54,
   "metadata": {
    "tags": [
     "remove_cell"
    ]
   },
   "outputs": [],
   "source": [
    "def Quadratic(Fun,point,x0,x1,x2):\n",
    "    \n",
    "    fun = lambda x: eval(Fun)\n",
    "    \n",
    "    b0 = fun(x0)\n",
    "    b1 = (fun(x1) - fun(x0)) / (x1 - x0)\n",
    "    b2 = (((fun(x2) - fun(x1)) / (x2 - x1))- b1) / (x2 - x0)\n",
    "    \n",
    "    QFun = lambda x: b0 + (b1 * (x-x0)) + (b2 * (x-x0) * (x-x1))\n",
    "    \n",
    "    funPoint = QFun(point)\n",
    "    \n",
    "    PrintFun(fun,point,funPoint)\n",
    "    "
   ]
  },
  {
   "cell_type": "code",
   "execution_count": 55,
   "metadata": {
    "tags": [
     "remove_cell"
    ]
   },
   "outputs": [],
   "source": [
    "def NewtonsInterpolation(Fun,order,x,xEstimate):\n",
    "    \n",
    "    fun = lambda x: eval(Fun)\n",
    "    \n",
    "    values = np.zeros(order)\n",
    "    totalValues = sum(np.arange(order+1))\n",
    "    bVals = np.array([])\n",
    "\n",
    "    for i in range(order):\n",
    "        values[i] = (fun(x[i+1]) - fun(x[i])) / (x[i+1] - x[i])\n",
    "    \n",
    "    bVals = np.append(bVals,values[0])\n",
    "    nextVals = np.zeros(order-1)\n",
    "    \n",
    "    while len(values) != totalValues:\n",
    "        \n",
    "        if len(nextVals) >= 2:\n",
    "            for i in np.arange(len(values)-1,0,-1):\n",
    "                nextVals[i-1] = (values[i] - values[i-1]) / (x[i+1] - x[i-1])\n",
    "        \n",
    "        if len(nextVals) < 2:\n",
    "            nextVals[0] = (values[-1] - values[-2]) / (x[-1] - x[0])\n",
    "        \n",
    "        bVals = np.append(bVals,nextVals[0])\n",
    "        values = np.append(values,nextVals)\n",
    "        order -= 1\n",
    "        nextVals = np.zeros(order-1)\n",
    "    \n",
    "    funPoint = fun(x[0])\n",
    "    \n",
    "    for i in range(len(bVals)):\n",
    "        \n",
    "        multFun = bVals[i]\n",
    "        \n",
    "        for j in range(i+1):\n",
    "            \n",
    "            multFun *= (xEstimate - x[j])\n",
    "\n",
    "        funPoint += multFun\n",
    "        \n",
    "    PrintFun(fun,xEstimate,funPoint)\n",
    "    "
   ]
  },
  {
   "cell_type": "code",
   "execution_count": 56,
   "metadata": {
    "tags": [
     "remove_cell"
    ]
   },
   "outputs": [],
   "source": [
    "def InterPicker(method):\n",
    "    if method == 'Linear':\n",
    "        w = interact(Linear,Fun = {'np.log(x)','x**2','x**3'},point = 2,x0 = 1,x1 = 3)\n",
    "        \n",
    "    if method == 'Quadratic':\n",
    "        w = interact(Quadratic,Fun = {'np.log(x)','x**2','x**3'},point = 2,x0 = 1,x1 = 3,x2 = 5)\n",
    "\n",
    "    if method == 'Newton':\n",
    "        w = interact(NewtonsInterpolation,Fun = {'np.log(x)','x**2','x**3'},order = [3],x = [[1,4,6,5],[3,4,6,8]],xEstimate = 2)\n",
    "\n",
    "    \n",
    "    "
   ]
  },
  {
   "cell_type": "code",
   "execution_count": 57,
   "metadata": {},
   "outputs": [
    {
     "data": {
      "application/vnd.jupyter.widget-view+json": {
       "model_id": "d6407f2ba4c940f5b40364007eb051b3",
       "version_major": 2,
       "version_minor": 0
      },
      "text/plain": [
       "interactive(children=(Dropdown(description='method', options=('Newton', 'Linear', 'Quadratic'), value='Newton'…"
      ]
     },
     "metadata": {},
     "output_type": "display_data"
    }
   ],
   "source": [
    "w = interact(InterPicker,method = {'Linear','Quadratic','Newton'})\n"
   ]
  },
  {
   "cell_type": "code",
   "execution_count": null,
   "metadata": {},
   "outputs": [],
   "source": []
  }
 ],
 "metadata": {
  "celltoolbar": "Tags",
  "kernelspec": {
   "display_name": "Python 3",
   "language": "python",
   "name": "python3"
  },
  "language_info": {
   "codemirror_mode": {
    "name": "ipython",
    "version": 3
   },
   "file_extension": ".py",
   "mimetype": "text/x-python",
   "name": "python",
   "nbconvert_exporter": "python",
   "pygments_lexer": "ipython3",
   "version": "3.7.1"
  }
 },
 "nbformat": 4,
 "nbformat_minor": 2
}
