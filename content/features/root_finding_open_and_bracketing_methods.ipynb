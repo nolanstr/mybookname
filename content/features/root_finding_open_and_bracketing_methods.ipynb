{
 "cells": [
  {
   "cell_type": "code",
   "execution_count": 1,
   "metadata": {
    "tags": [
     "hide_cell"
    ]
   },
   "outputs": [
    {
     "data": {
      "text/html": [
       "        <script type=\"text/javascript\">\n",
       "        window.PlotlyConfig = {MathJaxConfig: 'local'};\n",
       "        if (window.MathJax) {MathJax.Hub.Config({SVG: {font: \"STIX-Web\"}});}\n",
       "        if (typeof require !== 'undefined') {\n",
       "        require.undef(\"plotly\");\n",
       "        requirejs.config({\n",
       "            paths: {\n",
       "                'plotly': ['https://cdn.plot.ly/plotly-latest.min']\n",
       "            }\n",
       "        });\n",
       "        require(['plotly'], function(Plotly) {\n",
       "            window._Plotly = Plotly;\n",
       "        });\n",
       "        }\n",
       "        </script>\n",
       "        "
      ]
     },
     "metadata": {},
     "output_type": "display_data"
    }
   ],
   "source": [
    "from plotly.offline import download_plotlyjs, init_notebook_mode, plot, iplot\n",
    "import plotly.graph_objs as go\n",
    "init_notebook_mode(connected=True)\n",
    "from __future__ import print_function\n",
    "from ipywidgets import interact, interactive, fixed, interact_manual\n",
    "import ipywidgets as widgets\n",
    "import numpy as np\n",
    "import time\n",
    "import numpy as np"
   ]
  },
  {
   "cell_type": "markdown",
   "metadata": {},
   "source": [
    "# **Graphical Method**:\n",
    "This method needs no function, you just need to be capable of plotting the function where you can then look for the instance, or instances, of which the function is equal to zero."
   ]
  },
  {
   "cell_type": "code",
   "execution_count": 2,
   "metadata": {},
   "outputs": [],
   "source": [
    "def bisection(fun, a, b, tol):\n",
    "    startTime = time.time()\n",
    "    i = 0.0\n",
    "    c = (a + b) / 2.0\n",
    "    \n",
    "    if fun(a) == 0:\n",
    "        return a, i, 'guess a was root'\n",
    "    if fun(b) == 0:\n",
    "        return b, i, 'guess b was root'\n",
    "    \n",
    "    while i < 1000:\n",
    "        i += 1\n",
    "        if abs(fun(c)) < tol:\n",
    "            break\n",
    "        if fun(c) * fun(a) > 0:\n",
    "            a = c\n",
    "        else: \n",
    "            b = c\n",
    "        c = (a + b) / 2\n",
    "        \n",
    "    elapseTime = startTime - time.time()\n",
    "         \n",
    "    return c, i, elapseTime"
   ]
  },
  {
   "cell_type": "code",
   "execution_count": 3,
   "metadata": {},
   "outputs": [],
   "source": [
    "def FalsePosition(fun, a, b, tol):\n",
    "    startTime = time.time()\n",
    "    i = 0\n",
    "    \n",
    "    if fun(a) == 0:\n",
    "        return a, i, 'guess a was root'\n",
    "    if fun(b) == 0:\n",
    "        return b, i, 'guess b was root'\n",
    "\n",
    "    c = b - (fun(b) * (a - b)) / (fun(a) - fun(b))\n",
    "    \n",
    "    while i < 1000:\n",
    "        i += 1\n",
    "        if abs(fun(c)) < tol:\n",
    "            break\n",
    "        if fun(c) * fun(a) > 0:\n",
    "            a = c\n",
    "        else: \n",
    "            b = c\n",
    "        c = b - (fun(b) * (a - b)) / (fun(a) - fun(b))\n",
    "            \n",
    "    elapseTime = startTime - time.time()\n",
    "    \n",
    "    return c, i, elapseTime\n"
   ]
  },
  {
   "cell_type": "code",
   "execution_count": 4,
   "metadata": {
    "tags": [
     "hide_cell"
    ]
   },
   "outputs": [],
   "source": [
    "def FunSelector(method, fun, a, b, tol):\n",
    "    if method == 'bisection':\n",
    "        root, i, elapseTime = bisection(fun,a, b, tol)\n",
    "    else:\n",
    "        root, i, elapseTime = FalsePosition(fun, a, b, tol)\n",
    "    return root, i, elapseTime"
   ]
  },
  {
   "cell_type": "code",
   "execution_count": 5,
   "metadata": {
    "tags": [
     "hide_cell"
    ]
   },
   "outputs": [],
   "source": [
    "def KeyFun(fun,root):\n",
    "    if fun(root) == 0:\n",
    "        return print('Key = MAGIC')"
   ]
  },
  {
   "cell_type": "code",
   "execution_count": 6,
   "metadata": {
    "tags": [
     "hide_cell"
    ]
   },
   "outputs": [],
   "source": [
    "def runFun(method, function, a, b, tol):\n",
    "    \n",
    "    fun = lambda x: eval(function)\n",
    "    \n",
    "    root, i, elapseTime = FunSelector(method, fun, a, b, tol)\n",
    "    print(i, 'iterations were completed in',abs(elapseTime),'seconds.')\n",
    "    KeyFun(fun,root)\n",
    "    \n",
    "    RangeNearRoot = np.arange(a, b, 0.1)\n",
    "    funVals = np.zeros(len(RangeNearRoot))\n",
    "    \n",
    "    for i in range(len(funVals)):\n",
    "        funVals[i] = fun(RangeNearRoot[i])\n",
    "    \n",
    "    #plot both datasets\n",
    "    plot_vals = go.Scatter(name='Equation Near Root', x=RangeNearRoot, y=funVals)\n",
    "    plot_approx = go.Scatter(name='Root Approximation.', x=np.array([root]), y=np.array([fun(root)]))\n",
    "        \n",
    "    iplot([plot_vals, plot_approx])\n",
    "    "
   ]
  },
  {
   "cell_type": "code",
   "execution_count": 7,
   "metadata": {
    "scrolled": true
   },
   "outputs": [
    {
     "data": {
      "application/vnd.jupyter.widget-view+json": {
       "model_id": "fc86b565ae8d4bbbbd293f1958b9cd7b",
       "version_major": 2,
       "version_minor": 0
      },
      "text/plain": [
       "interactive(children=(Dropdown(description='method', options=('FalsePostion', 'bisection'), value='FalsePostio…"
      ]
     },
     "metadata": {},
     "output_type": "display_data"
    }
   ],
   "source": [
    "w = interact(runFun,method = {'FalsePostion','bisection'}, function = {'2 * x','2*(x**2) + 3*x + 1','16*(x**3) - 11 *(x**2) + 14*x - 4'}, a=(-5,1,0.5), b=(2,4,0.5), tol=(1e-4, 5e-1, 1e-2))\n"
   ]
  },
  {
   "cell_type": "code",
   "execution_count": null,
   "metadata": {},
   "outputs": [],
   "source": []
  }
 ],
 "metadata": {
  "celltoolbar": "Tags",
  "kernelspec": {
   "display_name": "Python 3",
   "language": "python",
   "name": "python3"
  },
  "language_info": {
   "codemirror_mode": {
    "name": "ipython",
    "version": 3
   },
   "file_extension": ".py",
   "mimetype": "text/x-python",
   "name": "python",
   "nbconvert_exporter": "python",
   "pygments_lexer": "ipython3",
   "version": "3.7.1"
  }
 },
 "nbformat": 4,
 "nbformat_minor": 2
}
